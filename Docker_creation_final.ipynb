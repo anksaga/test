{
 "cells": [
  {
   "cell_type": "code",
   "execution_count": 1,
   "id": "c2bbf892",
   "metadata": {},
   "outputs": [
    {
     "name": "stdout",
     "output_type": "stream",
     "text": [
      "download: s3://viap-raw-zone-dev-test/Dockerfiles/wrapper.py to model_final_container/wrapper.py\n",
      "download: s3://viap-raw-zone-dev-test/Dockerfiles/base_build_and_push.sh to model_final_container/base_build_and_push.sh\n",
      "download: s3://viap-raw-zone-dev-test/Dockerfiles/Dockerfile to model_final_container/Dockerfile\n"
     ]
    }
   ],
   "source": [
    "!aws s3 cp s3://sagemaker-lifecycle-test/container/ /home/ec2-user/SageMaker/model_final_container/ --recursive"
   ]
  },
  {
   "cell_type": "code",
   "execution_count": null,
   "id": "abcf8971",
   "metadata": {},
   "outputs": [],
   "source": [
    "processing_image = 'vil-processing'\n",
    "processing_dockerfile = 'Dockerfile'\n",
    "dir = '/home/ec2-user/SageMaker/model_final_container'\n",
    "\n",
    "!sh /home/ec2-user/SageMaker/model_final_container/base_build_and_push.sh $processing_image $processing_dockerfile $dir"
   ]
  }
 ],
 "metadata": {
  "kernelspec": {
   "display_name": "conda_python3",
   "language": "python",
   "name": "conda_python3"
  },
  "language_info": {
   "codemirror_mode": {
    "name": "ipython",
    "version": 3
   },
   "file_extension": ".py",
   "mimetype": "text/x-python",
   "name": "python",
   "nbconvert_exporter": "python",
   "pygments_lexer": "ipython3",
   "version": "3.6.13"
  }
 },
 "nbformat": 4,
 "nbformat_minor": 5
}
